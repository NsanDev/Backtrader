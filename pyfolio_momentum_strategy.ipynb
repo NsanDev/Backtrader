{
 "cells": [
  {
   "cell_type": "code",
   "execution_count": 1,
   "metadata": {
    "collapsed": true
   },
   "outputs": [
    {
     "name": "stdout",
     "output_type": "stream",
     "text": [
      "The sharp ratio of this strategy is 0.16935731434385706\n"
     ]
    },
    {
     "data": {
      "text/plain": [
       "<IPython.core.display.Javascript object>"
      ]
     },
     "execution_count": 0,
     "metadata": {},
     "output_type": "execute_result"
    },
    {
     "data": {
      "text/html": [
       "<div id='423d45c9-9fe8-404e-a2d1-8db4f149363c'></div>"
      ],
      "text/plain": [
       "<div id='423d45c9-9fe8-404e-a2d1-8db4f149363c'></div>"
      ]
     },
     "execution_count": 0,
     "metadata": {},
     "output_type": "execute_result"
    }
   ],
   "source": [
    "import backtrader as bt\n",
    "import Strategies.MomentumStrategy as ms\n",
    "from Providers.lim import fetch_contract, COLUMN_NAMES, fetch_continuous_contract\n",
    "from Sizers.VolSizers import VolAdjustedSizer\n",
    "\n",
    "\n",
    "ticker = 'CL'\n",
    "from_date = '2015-01-01'\n",
    "to_date = '2017-01-01'\n",
    "\n",
    "df = fetch_contract('CL_2015Z', COLUMN_NAMES, '2012-01-01', '2015-01-01') # fetch from lim\n",
    "#df = fetch_continuous_contract(ticker, COLUMN_NAMES, from_date, to_date)\n",
    "# Create a Data Feed\n",
    "df = df.tz_localize('UTC', level=0)\n",
    "data = bt.feeds.PandasData(\n",
    "    dataname=df,\n",
    "    # Do not pass values before this date\n",
    "    fromdate=df.index[0],\n",
    "    # Do not pass values after this date\n",
    "    todate=df.index[-1])\n",
    "\n",
    "\n",
    "cerebro = bt.Cerebro()\n",
    "cerebro.addstrategy(ms.MomentumStrategy, lags=50) # Add strategy with its parameters lags\n",
    "cerebro.addsizer(VolAdjustedSizer, target_vol=0.1, window_vol=20) # How much we\n",
    "cerebro.adddata(data)\n",
    "cerebro.broker.setcash(1000.0)  # Set our desired cash start\n",
    "\n",
    "cerebro.addobserver(bt.observers.DrawDown) #Drawown will be calculated and plotted by Cerebro\n",
    "cerebro.addanalyzer(bt.analyzers.PyFolio)\n",
    "cerebro.addanalyzer(bt.analyzers.SharpeRatio,riskfreerate=0.01,annualize=True)\n",
    "\n",
    "strat = cerebro.run()\n",
    "pyfoliozer = strat[0].analyzers.getbyname('pyfolio')\n",
    "sharpe_ratio = strat[0].analyzers.sharperatio.ratio\n",
    "\n",
    "print(f\"The sharp ratio of this strategy is {sharpe_ratio}\")\n",
    "\n",
    "cerebro.plot()"
   ]
  },
  {
   "cell_type": "code",
   "execution_count": null,
   "metadata": {},
   "outputs": [],
   "source": [
    ""
   ]
  }
 ],
 "metadata": {
  "kernelspec": {
   "display_name": "Python 2",
   "language": "python",
   "name": "python2"
  },
  "language_info": {
   "codemirror_mode": {
    "name": "ipython",
    "version": 2.0
   },
   "file_extension": ".py",
   "mimetype": "text/x-python",
   "name": "python",
   "nbconvert_exporter": "python",
   "pygments_lexer": "ipython2",
   "version": "2.7.6"
  }
 },
 "nbformat": 4,
 "nbformat_minor": 0
}