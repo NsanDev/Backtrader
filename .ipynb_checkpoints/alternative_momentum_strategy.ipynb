{
 "cells": [
  {
   "cell_type": "code",
   "execution_count": 1,
   "metadata": {},
   "outputs": [
    {
     "name": "stdout",
     "output_type": "stream",
     "text": [
      "Starting Portfolio Value: 1000.00\n"
     ]
    },
    {
     "ename": "ValueError",
     "evalue": "not enough values to unpack (expected 3, got 1)",
     "traceback": [
      "\u001b[1;31m---------------------------------------------------------------------------\u001b[0m",
      "\u001b[1;31mValueError\u001b[0m                                Traceback (most recent call last)",
      "\u001b[1;32m<ipython-input-1-9f5b7b0435eb>\u001b[0m in \u001b[0;36m<module>\u001b[1;34m()\u001b[0m\n\u001b[0;32m     67\u001b[0m \u001b[1;31m# Run over everything\u001b[0m\u001b[1;33m\u001b[0m\u001b[1;33m\u001b[0m\u001b[0m\n\u001b[0;32m     68\u001b[0m \u001b[1;33m\u001b[0m\u001b[0m\n\u001b[1;32m---> 69\u001b[1;33m \u001b[0mstrats\u001b[0m \u001b[1;33m=\u001b[0m \u001b[0mcerebro\u001b[0m\u001b[1;33m.\u001b[0m\u001b[0mrun\u001b[0m\u001b[1;33m(\u001b[0m\u001b[1;33m)\u001b[0m\u001b[1;31m#runonce=False)\u001b[0m\u001b[1;33m\u001b[0m\u001b[0m\n\u001b[0m",
      "\u001b[1;32m~\\AppData\\Local\\conda\\conda\\envs\\trading\\lib\\site-packages\\backtrader\\cerebro.py\u001b[0m in \u001b[0;36mrun\u001b[1;34m(self, **kwargs)\u001b[0m\n\u001b[0;32m   1111\u001b[0m                 \u001b[1;31m# Try to see if the 1st regular strategy is a signal strategy\u001b[0m\u001b[1;33m\u001b[0m\u001b[1;33m\u001b[0m\u001b[0m\n\u001b[0;32m   1112\u001b[0m                 \u001b[1;32mtry\u001b[0m\u001b[1;33m:\u001b[0m\u001b[1;33m\u001b[0m\u001b[0m\n\u001b[1;32m-> 1113\u001b[1;33m                     \u001b[0msignalst\u001b[0m\u001b[1;33m,\u001b[0m \u001b[0msargs\u001b[0m\u001b[1;33m,\u001b[0m \u001b[0mskwargs\u001b[0m \u001b[1;33m=\u001b[0m \u001b[0mself\u001b[0m\u001b[1;33m.\u001b[0m\u001b[0mstrats\u001b[0m\u001b[1;33m.\u001b[0m\u001b[0mpop\u001b[0m\u001b[1;33m(\u001b[0m\u001b[1;36m0\u001b[0m\u001b[1;33m)\u001b[0m\u001b[1;33m\u001b[0m\u001b[0m\n\u001b[0m\u001b[0;32m   1114\u001b[0m                 \u001b[1;32mexcept\u001b[0m \u001b[0mIndexError\u001b[0m\u001b[1;33m:\u001b[0m\u001b[1;33m\u001b[0m\u001b[0m\n\u001b[0;32m   1115\u001b[0m                     \u001b[1;32mpass\u001b[0m  \u001b[1;31m# Nothing there\u001b[0m\u001b[1;33m\u001b[0m\u001b[0m\n",
      "\u001b[1;31mValueError\u001b[0m: not enough values to unpack (expected 3, got 1)"
     ],
     "output_type": "error"
    }
   ],
   "source": [
    "import datetime  # For datetime objects\n",
    "from lim import fetch_contract, COLUMN_NAMES\n",
    "import os.path  # To manage paths\n",
    "import sys  # To find out the script name (in argv[0])\n",
    "\n",
    "# Import the backtrader platform\n",
    "import backtrader as bt\n",
    "import pyfolio\n",
    "\n",
    "class MomentumSignal(bt.Signal):\n",
    "    lines = ('momentum',)\n",
    "    params = (('lags',5),)\n",
    "\n",
    "    def __init__(self): #for operating on dataframe\n",
    "        self.addminperiod(self.p.lags) # warmup\n",
    "        #self.lines.signal = self.data - self.data(-self.p.lags)\n",
    "\n",
    "    def next(self): #for operating point by point\n",
    "        self.lines.signal[0] = self.data[0] - self.data[-self.p.lags]\n",
    "\n",
    "class MomentumStrategy(bt.SignalStrategy):\n",
    "    params = (('lags', 10),)\n",
    "    def __init__(self):\n",
    "        self.addminperiod(self.params.lags)\n",
    "        self.signal_add(bt.SIGNAL_LONGSHORT, self.data - self.data(-self.params.lags))\n",
    "        a=1\n",
    "\n",
    "\n",
    "import pytz\n",
    "# Create a cerebro entity\n",
    "cerebro = bt.Cerebro()\n",
    "cerebro.addanalyzer(bt.analyzers.PyFolio)\n",
    "cerebro.addstrategy(MomentumStrategy, lag=20)\n",
    "\n",
    "df = fetch_contract('CL_2015Z', COLUMN_NAMES, '2013-01-01', '2015-01-01')\n",
    "# Create a Data Feed\n",
    "data = bt.feeds.PandasData(\n",
    "dataname=df,\n",
    "# Do not pass values before this date\n",
    "fromdate=datetime.datetime(2013, 1, 1,tzinfo=pytz.utc),\n",
    "# Do not pass values after this date\n",
    "todate=datetime.datetime(2015, 1, 1,tzinfo=pytz.utc))\n",
    "\n",
    "# Add the Data Feed to Cerebro\n",
    "cerebro.adddata(data)\n",
    "cerebro.broker.setcash(1000.0)\n",
    "cerebro.addanalyzer(bt.analyzers.PyFolio, _name='pyfolio')\n",
    "cerebro.add_signal(bt.SIGNAL_LONGSHORT, MomentumSignal, lags=30)\n",
    "cerebro.add_signal(bt.SIGNAL_LONGSHORT, MomentumSignal, lags=60)\n",
    "#     ALL_LAGS = [5,20,60,120,252]\n",
    "#     for lags in ALL_LAGS:\n",
    "#         cerebro.add_signal(bt.SIGNAL_LONGSHORT, MomentumSignal, lags=30)\n",
    "\n",
    "cerebro.addobserver(bt.observers.DrawDown)\n",
    "# Set our desired cash start\n",
    "\n",
    "\n",
    "# Add a FixedSize sizer according to the stake\n",
    "#cerebro.addsizer(bt.sizers.FixedSize, stake=1)\n",
    "\n",
    "# Set the commission\n",
    "cerebro.broker.setcommission(commission=0.0)\n",
    "\n",
    "# Print out the starting conditions\n",
    "print('Starting Portfolio Value: %.2f' % cerebro.broker.getvalue())\n",
    "\n",
    "# Run over everything\n",
    "\n",
    "strats = cerebro.run()#runonce=False)"
   ]
  },
  {
   "cell_type": "code",
   "execution_count": null,
   "metadata": {
    "collapsed": true
   },
   "outputs": [],
   "source": [
    "crebro.plot()"
   ]
  },
  {
   "cell_type": "code",
   "execution_count": null,
   "metadata": {
    "collapsed": true
   },
   "outputs": [],
   "source": [
    "# Print out the final result\n",
    "print('Final Portfolio Value: %.2f' % cerebro.broker.getvalue())\n",
    "\n",
    "# Plot the result\n",
    "#cerebro.plot()\n",
    "import pyfolio\n",
    "import pandas as pd\n",
    "all_returns = pd.DataFrame()\n",
    "for i in range(0,len(strats)):\n",
    "    pyfoliozer = strats[i].analyzers.getbyname('pyfolio')\n",
    "    returns, positions, transactions, gross_lev = pyfoliozer.get_pf_items()\n",
    "    all_returns[str(ALL_LAGS[i])] = returns\n",
    "\n",
    "a=1\n",
    "# benchmark_rets = pd.Series(1, index=pd.date_range(all,\n",
    "#                                                    datetime.datetime(2015, 1, 1,tzinfo=pytz.utc)))\n",
    "# from matplotlib.pyplot import savefig, figure\n",
    "import pyfolio as pf\n",
    "# fig = figure()\n",
    "ts = pf.create_returns_tear_sheet(returns, benchmark_rets=all_returns[\"5\"], return_fig=True)#.savefig(\"tear_sheet\")"
   ]
  }
 ],
 "metadata": {
  "kernelspec": {
   "display_name": "Python 3",
   "language": "python",
   "name": "python3"
  },
  "language_info": {
   "codemirror_mode": {
    "name": "ipython",
    "version": 3.0
   },
   "file_extension": ".py",
   "mimetype": "text/x-python",
   "name": "python",
   "nbconvert_exporter": "python",
   "pygments_lexer": "ipython3",
   "version": "3.6.1"
  }
 },
 "nbformat": 4,
 "nbformat_minor": 0
}